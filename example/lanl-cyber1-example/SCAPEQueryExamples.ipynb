{
 "cells": [
  {
   "cell_type": "code",
   "execution_count": 1,
   "metadata": {
    "collapsed": false
   },
   "outputs": [],
   "source": [
    "import scape.registry as R\n",
    "import scape.sql as sql\n",
    "import os,json\n",
    "from getpass import getuser,getpass\n",
    "\n",
    "import sqlalchemy\n",
    "from sqlalchemy import Column, Integer, String, Numeric, DATETIME\n",
    "from sqlalchemy.ext.declarative import declarative_base\n",
    "from sqlalchemy.orm import sessionmaker\n",
    "from getpass import (getpass, getuser)"
   ]
  },
  {
   "cell_type": "code",
   "execution_count": 2,
   "metadata": {
    "collapsed": false
   },
   "outputs": [
    {
     "name": "stdout",
     "output_type": "stream",
     "text": [
      "········\n"
     ]
    }
   ],
   "source": [
    "#Prepare the URL with authentication data\n",
    "\n",
    "pwd = getpass()\n",
    "myurl = sqlalchemy.engine.url.URL(\n",
    "    'postgresql',         # SQL backend type\n",
    "    username='postgres',  # or getuser() if username is the same\n",
    "    password = pwd,       #  \n",
    "    host='localhost',     # assuming you're on a workstation\n",
    "    database='lanldb',    # Name of your LANL database\n",
    "    port=5432)            # Make sure this matches your database configuration"
   ]
  },
  {
   "cell_type": "code",
   "execution_count": 3,
   "metadata": {
    "collapsed": false
   },
   "outputs": [],
   "source": [
    "# Create a persistent engine\n",
    "global engine\n",
    "engine=sqlalchemy.create_engine( myurl )"
   ]
  },
  {
   "cell_type": "code",
   "execution_count": 4,
   "metadata": {
    "collapsed": false
   },
   "outputs": [],
   "source": [
    "def connect(engine):\n",
    "    \"\"\"Read the registry file and connect the metadata to the database object\"\"\"\n",
    "    with open('lanldataregistry.json','rt') as f:\n",
    "        overlay = json.load(f)\n",
    "    \n",
    "    tmd={k:sql.SqlDataSource(engine=engine,\n",
    "                             metadata=R.TableMetadata(v),\n",
    "                             table=k,\n",
    "                             description='') for k,v in overlay.items()}\n",
    "    reg = R.Registry(tmd)\n",
    "    return reg"
   ]
  },
  {
   "cell_type": "code",
   "execution_count": 5,
   "metadata": {
    "collapsed": false
   },
   "outputs": [],
   "source": [
    "registry=connect(engine)"
   ]
  },
  {
   "cell_type": "markdown",
   "metadata": {},
   "source": [
    "## Registry exploration to learn about available data sources."
   ]
  },
  {
   "cell_type": "code",
   "execution_count": 6,
   "metadata": {
    "collapsed": false
   },
   "outputs": [
    {
     "data": {
      "text/html": [
       "<table><th>Name</th><th>Class</th><th>Description</th></tr><tr><td>auth</td><td>SqlDataSource</td><td></td></tr><tr><td>dns</td><td>SqlDataSource</td><td></td></tr><tr><td>flows</td><td>SqlDataSource</td><td></td></tr><tr><td>proc</td><td>SqlDataSource</td><td></td></tr><tr><td>redteam</td><td>SqlDataSource</td><td></td></tr></table>"
      ],
      "text/plain": [
       "{'auth': DataSource('auth'),\n",
       " 'dns': DataSource('dns'),\n",
       " 'flows': DataSource('flows'),\n",
       " 'proc': DataSource('proc'),\n",
       " 'redteam': DataSource('redteam')}"
      ]
     },
     "execution_count": 6,
     "metadata": {},
     "output_type": "execute_result"
    }
   ],
   "source": [
    "# just evaluate rigistry to identify the available data sources\n",
    "registry"
   ]
  },
  {
   "cell_type": "markdown",
   "metadata": {},
   "source": [
    "The data source class helps developers know where to look to find translators between SCAPE queries and the ntive queries issued to the back end database."
   ]
  },
  {
   "cell_type": "code",
   "execution_count": 7,
   "metadata": {
    "collapsed": false
   },
   "outputs": [
    {
     "data": {
      "text/html": [
       "<table><th>Name</th><th>Class</th><th>Description</th><th>Field</th><th>Dim</th><th>Tags</th></tr>\n",
       "<tr><td>auth</td><td>SqlDataSource</td><td></td><td></td><td></td><td></td></tr>\n",
       "<tr><td></td><td></td><td></td><td>shost</td><td>hostname</td><td>src</td></tr>\n",
       "<tr><td></td><td></td><td></td><td>dhost</td><td>hostname</td><td>dst</td></tr>\n",
       "<tr><td>dns</td><td>SqlDataSource</td><td></td><td></td><td></td><td></td></tr>\n",
       "<tr><td></td><td></td><td></td><td>resolvedhost</td><td>hostname</td><td>dnsresponse,dst,dns</td></tr>\n",
       "<tr><td></td><td></td><td></td><td>shost</td><td>hostname</td><td>src</td></tr>\n",
       "<tr><td>flows</td><td>SqlDataSource</td><td></td><td></td><td></td><td></td></tr>\n",
       "<tr><td></td><td></td><td></td><td>shost</td><td>hostname</td><td>src</td></tr>\n",
       "<tr><td></td><td></td><td></td><td>dhost</td><td>hostname</td><td>dst</td></tr>\n",
       "<tr><td>proc</td><td>SqlDataSource</td><td></td><td></td><td></td><td></td></tr>\n",
       "<tr><td></td><td></td><td></td><td>host</td><td>hostname</td><td></td></tr>\n",
       "<tr><td>redteam</td><td>SqlDataSource</td><td></td><td></td><td></td><td></td></tr>\n",
       "<tr><td></td><td></td><td></td><td>shost</td><td>hostname</td><td>src</td></tr>\n",
       "<tr><td></td><td></td><td></td><td>dhost</td><td>hostname</td><td>dst</td></tr>\n",
       "</table>\n"
      ],
      "text/plain": [
       "{'auth': DataSource('auth'),\n",
       " 'dns': DataSource('dns'),\n",
       " 'flows': DataSource('flows'),\n",
       " 'proc': DataSource('proc'),\n",
       " 'redteam': DataSource('redteam')}"
      ]
     },
     "execution_count": 7,
     "metadata": {},
     "output_type": "execute_result"
    }
   ],
   "source": [
    "#The has function will identify data sources that have a field with a particular dimension associated to it. \n",
    "registry.has('hostname')"
   ]
  },
  {
   "cell_type": "code",
   "execution_count": 8,
   "metadata": {
    "collapsed": false
   },
   "outputs": [
    {
     "data": {
      "text/html": [
       "<table><th>Name</th><th>Class</th><th>Description</th><th>Field</th><th>Dim</th><th>Tags</th></tr>\n",
       "<tr><td>auth</td><td>SqlDataSource</td><td></td><td></td><td></td><td></td></tr>\n",
       "<tr><td></td><td></td><td></td><td>shost</td><td>hostname</td><td>src</td></tr>\n",
       "<tr><td>dns</td><td>SqlDataSource</td><td></td><td></td><td></td><td></td></tr>\n",
       "<tr><td></td><td></td><td></td><td>shost</td><td>hostname</td><td>src</td></tr>\n",
       "<tr><td>flows</td><td>SqlDataSource</td><td></td><td></td><td></td><td></td></tr>\n",
       "<tr><td></td><td></td><td></td><td>shost</td><td>hostname</td><td>src</td></tr>\n",
       "<tr><td>redteam</td><td>SqlDataSource</td><td></td><td></td><td></td><td></td></tr>\n",
       "<tr><td></td><td></td><td></td><td>shost</td><td>hostname</td><td>src</td></tr>\n",
       "</table>\n"
      ],
      "text/plain": [
       "{'auth': DataSource('auth'),\n",
       " 'dns': DataSource('dns'),\n",
       " 'flows': DataSource('flows'),\n",
       " 'redteam': DataSource('redteam')}"
      ]
     },
     "execution_count": 8,
     "metadata": {},
     "output_type": "execute_result"
    }
   ],
   "source": [
    "# We can also ask about a tagged dimension associated with a field \n",
    "registry.has('src:hostname')"
   ]
  },
  {
   "cell_type": "markdown",
   "metadata": {},
   "source": [
    "###### This query tells us all data streams that have hosts acting as the source in some network interaction."
   ]
  },
  {
   "cell_type": "code",
   "execution_count": 9,
   "metadata": {
    "collapsed": false
   },
   "outputs": [
    {
     "data": {
      "text/html": [
       "<table><th>Name</th><th>Class</th><th>Description</th><th>Field</th><th>Dim</th><th>Tags</th></tr>\n",
       "<tr><td>dns</td><td>SqlDataSource</td><td></td><td></td><td></td><td></td></tr>\n",
       "<tr><td></td><td></td><td></td><td>resolvedhost</td><td>hostname</td><td>dnsresponse,dst,dns</td></tr>\n",
       "</table>\n"
      ],
      "text/plain": [
       "{'dns': DataSource('dns')}"
      ]
     },
     "execution_count": 9,
     "metadata": {},
     "output_type": "execute_result"
    }
   ],
   "source": [
    "# Multiple tags can be associated with the same field.  We query the registry using multiple tags, \n",
    "# and it will return data streams that contain all the specified tags. Tags are delimited by colons,\n",
    "# and the final element in the list is a dimension not a tag.\n",
    "registry.has('dst:dns:hostname')"
   ]
  },
  {
   "cell_type": "code",
   "execution_count": 10,
   "metadata": {
    "collapsed": false
   },
   "outputs": [
    {
     "data": {
      "text/html": [
       "<table><th>Name</th><th>Class</th><th>Description</th><th>Field</th><th>Dim</th><th>Tags</th></tr>\n",
       "<tr><td>auth</td><td>SqlDataSource</td><td></td><td></td><td></td><td></td></tr>\n",
       "<tr><td></td><td></td><td></td><td>duser</td><td>username</td><td>dst</td></tr>\n",
       "<tr><td></td><td></td><td></td><td>dhost</td><td>hostname</td><td>dst</td></tr>\n",
       "<tr><td>dns</td><td>SqlDataSource</td><td></td><td></td><td></td><td></td></tr>\n",
       "<tr><td></td><td></td><td></td><td>resolvedhost</td><td>hostname</td><td>dnsresponse,dst,dns</td></tr>\n",
       "<tr><td>flows</td><td>SqlDataSource</td><td></td><td></td><td></td><td></td></tr>\n",
       "<tr><td></td><td></td><td></td><td>dport</td><td>port</td><td>dst</td></tr>\n",
       "<tr><td></td><td></td><td></td><td>dhost</td><td>hostname</td><td>dst</td></tr>\n",
       "<tr><td>redteam</td><td>SqlDataSource</td><td></td><td></td><td></td><td></td></tr>\n",
       "<tr><td></td><td></td><td></td><td>dhost</td><td>hostname</td><td>dst</td></tr>\n",
       "</table>\n"
      ],
      "text/plain": [
       "{'auth': DataSource('auth'),\n",
       " 'dns': DataSource('dns'),\n",
       " 'flows': DataSource('flows'),\n",
       " 'redteam': DataSource('redteam')}"
      ]
     },
     "execution_count": 10,
     "metadata": {},
     "output_type": "execute_result"
    }
   ],
   "source": [
    "# You can also ask about tags without specifying a dimension\n",
    "registry.has('dst:')"
   ]
  },
  {
   "cell_type": "markdown",
   "metadata": {},
   "source": [
    "## Explore a particular data stream"
   ]
  },
  {
   "cell_type": "code",
   "execution_count": 11,
   "metadata": {
    "collapsed": false
   },
   "outputs": [],
   "source": [
    "# Select a datastream of interest to investigate\n",
    "dns=registry['dns']"
   ]
  },
  {
   "cell_type": "code",
   "execution_count": 12,
   "metadata": {
    "collapsed": false
   },
   "outputs": [
    {
     "data": {
      "text/html": [
       "<table><tr><td><b>Field</b></td><td><b>Dim</b></td><td><b>Tags</b></td></tr><tr><td>id</td><td>primarykey</td><td></td></tr><tr><td>resolvedhost</td><td>hostname</td><td>dnsresponse,dst,dns</td></tr><tr><td>shost</td><td>hostname</td><td>src</td></tr><tr><td>time</td><td>time</td><td>seconds</td></tr></table>"
      ],
      "text/plain": [
       "DataSource('dns')"
      ]
     },
     "execution_count": 12,
     "metadata": {},
     "output_type": "execute_result"
    }
   ],
   "source": [
    "#Print out the knowledge engineering for this data stream\n",
    "dns"
   ]
  },
  {
   "cell_type": "code",
   "execution_count": 27,
   "metadata": {
    "collapsed": false
   },
   "outputs": [
    {
     "data": {
      "text/plain": [
       "[{'id': 0, 'resolvedhost': 'C5030', 'shost': 'C4653', 'time': 2},\n",
       " {'id': 1, 'resolvedhost': 'C16712', 'shost': 'C5782', 'time': 2},\n",
       " {'id': 2, 'resolvedhost': 'C419', 'shost': 'C1191', 'time': 6},\n",
       " {'id': 3, 'resolvedhost': 'C22841', 'shost': 'C3380', 'time': 15},\n",
       " {'id': 4, 'resolvedhost': 'C5030', 'shost': 'C2436', 'time': 18}]"
      ]
     },
     "execution_count": 27,
     "metadata": {},
     "output_type": "execute_result"
    }
   ],
   "source": [
    "#get all data from this data stream, and return a list of dictionaries\n",
    "alldns=dns.select().run(out='list')\n",
    "alldns[:5]"
   ]
  },
  {
   "cell_type": "code",
   "execution_count": 26,
   "metadata": {
    "collapsed": false
   },
   "outputs": [
    {
     "data": {
      "text/plain": [
       "[{'id': 0, 'resolvedhost': 'C5030', 'shost': 'C4653', 'time': 2},\n",
       " {'id': 1, 'resolvedhost': 'C16712', 'shost': 'C5782', 'time': 2},\n",
       " {'id': 2, 'resolvedhost': 'C419', 'shost': 'C1191', 'time': 6},\n",
       " {'id': 3, 'resolvedhost': 'C22841', 'shost': 'C3380', 'time': 15},\n",
       " {'id': 4, 'resolvedhost': 'C5030', 'shost': 'C2436', 'time': 18}]"
      ]
     },
     "execution_count": 26,
     "metadata": {},
     "output_type": "execute_result"
    }
   ],
   "source": [
    "# You can also call get a list of records by calling list()\n",
    "alldns=dns.select().list()\n",
    "alldns[:5]"
   ]
  },
  {
   "cell_type": "markdown",
   "metadata": {},
   "source": [
    "The call below returns the results in a pandas dataframe. It's the same as calling\n",
    "\n",
    "    alldnsdf=dns.select().run(out='pandas')"
   ]
  },
  {
   "cell_type": "code",
   "execution_count": 15,
   "metadata": {
    "collapsed": false,
    "scrolled": true
   },
   "outputs": [
    {
     "data": {
      "text/html": [
       "<div>\n",
       "<table border=\"1\" class=\"dataframe\">\n",
       "  <thead>\n",
       "    <tr style=\"text-align: right;\">\n",
       "      <th></th>\n",
       "      <th>id</th>\n",
       "      <th>time</th>\n",
       "      <th>shost</th>\n",
       "      <th>resolvedhost</th>\n",
       "    </tr>\n",
       "  </thead>\n",
       "  <tbody>\n",
       "    <tr>\n",
       "      <th>0</th>\n",
       "      <td>0</td>\n",
       "      <td>2</td>\n",
       "      <td>C4653</td>\n",
       "      <td>C5030</td>\n",
       "    </tr>\n",
       "    <tr>\n",
       "      <th>1</th>\n",
       "      <td>1</td>\n",
       "      <td>2</td>\n",
       "      <td>C5782</td>\n",
       "      <td>C16712</td>\n",
       "    </tr>\n",
       "    <tr>\n",
       "      <th>2</th>\n",
       "      <td>2</td>\n",
       "      <td>6</td>\n",
       "      <td>C1191</td>\n",
       "      <td>C419</td>\n",
       "    </tr>\n",
       "    <tr>\n",
       "      <th>3</th>\n",
       "      <td>3</td>\n",
       "      <td>15</td>\n",
       "      <td>C3380</td>\n",
       "      <td>C22841</td>\n",
       "    </tr>\n",
       "    <tr>\n",
       "      <th>4</th>\n",
       "      <td>4</td>\n",
       "      <td>18</td>\n",
       "      <td>C2436</td>\n",
       "      <td>C5030</td>\n",
       "    </tr>\n",
       "    <tr>\n",
       "      <th>5</th>\n",
       "      <td>5</td>\n",
       "      <td>31</td>\n",
       "      <td>C161</td>\n",
       "      <td>C2109</td>\n",
       "    </tr>\n",
       "    <tr>\n",
       "      <th>6</th>\n",
       "      <td>6</td>\n",
       "      <td>35</td>\n",
       "      <td>C5642</td>\n",
       "      <td>C528</td>\n",
       "    </tr>\n",
       "    <tr>\n",
       "      <th>7</th>\n",
       "      <td>7</td>\n",
       "      <td>38</td>\n",
       "      <td>C3380</td>\n",
       "      <td>C22841</td>\n",
       "    </tr>\n",
       "    <tr>\n",
       "      <th>8</th>\n",
       "      <td>8</td>\n",
       "      <td>42</td>\n",
       "      <td>C2428</td>\n",
       "      <td>C1065</td>\n",
       "    </tr>\n",
       "    <tr>\n",
       "      <th>9</th>\n",
       "      <td>9</td>\n",
       "      <td>42</td>\n",
       "      <td>C2428</td>\n",
       "      <td>C2109</td>\n",
       "    </tr>\n",
       "    <tr>\n",
       "      <th>10</th>\n",
       "      <td>10</td>\n",
       "      <td>42</td>\n",
       "      <td>C2428</td>\n",
       "      <td>C586</td>\n",
       "    </tr>\n",
       "    <tr>\n",
       "      <th>11</th>\n",
       "      <td>11</td>\n",
       "      <td>43</td>\n",
       "      <td>C2428</td>\n",
       "      <td>C528</td>\n",
       "    </tr>\n",
       "    <tr>\n",
       "      <th>12</th>\n",
       "      <td>12</td>\n",
       "      <td>44</td>\n",
       "      <td>C2428</td>\n",
       "      <td>C2109</td>\n",
       "    </tr>\n",
       "    <tr>\n",
       "      <th>13</th>\n",
       "      <td>13</td>\n",
       "      <td>49</td>\n",
       "      <td>C5778</td>\n",
       "      <td>C706</td>\n",
       "    </tr>\n",
       "    <tr>\n",
       "      <th>14</th>\n",
       "      <td>14</td>\n",
       "      <td>50</td>\n",
       "      <td>C2492</td>\n",
       "      <td>C457</td>\n",
       "    </tr>\n",
       "    <tr>\n",
       "      <th>15</th>\n",
       "      <td>15</td>\n",
       "      <td>51</td>\n",
       "      <td>C1299</td>\n",
       "      <td>C2109</td>\n",
       "    </tr>\n",
       "    <tr>\n",
       "      <th>16</th>\n",
       "      <td>16</td>\n",
       "      <td>53</td>\n",
       "      <td>C608</td>\n",
       "      <td>C706</td>\n",
       "    </tr>\n",
       "    <tr>\n",
       "      <th>17</th>\n",
       "      <td>17</td>\n",
       "      <td>59</td>\n",
       "      <td>C2517</td>\n",
       "      <td>C1707</td>\n",
       "    </tr>\n",
       "    <tr>\n",
       "      <th>18</th>\n",
       "      <td>18</td>\n",
       "      <td>62</td>\n",
       "      <td>C24436</td>\n",
       "      <td>C24436</td>\n",
       "    </tr>\n",
       "    <tr>\n",
       "      <th>19</th>\n",
       "      <td>19</td>\n",
       "      <td>62</td>\n",
       "      <td>C26743</td>\n",
       "      <td>C26743</td>\n",
       "    </tr>\n",
       "    <tr>\n",
       "      <th>20</th>\n",
       "      <td>20</td>\n",
       "      <td>62</td>\n",
       "      <td>C5778</td>\n",
       "      <td>C1685</td>\n",
       "    </tr>\n",
       "    <tr>\n",
       "      <th>21</th>\n",
       "      <td>21</td>\n",
       "      <td>63</td>\n",
       "      <td>C3198</td>\n",
       "      <td>C1707</td>\n",
       "    </tr>\n",
       "    <tr>\n",
       "      <th>22</th>\n",
       "      <td>22</td>\n",
       "      <td>63</td>\n",
       "      <td>C5778</td>\n",
       "      <td>C1685</td>\n",
       "    </tr>\n",
       "    <tr>\n",
       "      <th>23</th>\n",
       "      <td>23</td>\n",
       "      <td>65</td>\n",
       "      <td>C1108</td>\n",
       "      <td>C706</td>\n",
       "    </tr>\n",
       "    <tr>\n",
       "      <th>24</th>\n",
       "      <td>24</td>\n",
       "      <td>65</td>\n",
       "      <td>C2428</td>\n",
       "      <td>C457</td>\n",
       "    </tr>\n",
       "    <tr>\n",
       "      <th>25</th>\n",
       "      <td>25</td>\n",
       "      <td>66</td>\n",
       "      <td>C2428</td>\n",
       "      <td>C457</td>\n",
       "    </tr>\n",
       "    <tr>\n",
       "      <th>26</th>\n",
       "      <td>26</td>\n",
       "      <td>71</td>\n",
       "      <td>C4651</td>\n",
       "      <td>C1707</td>\n",
       "    </tr>\n",
       "    <tr>\n",
       "      <th>27</th>\n",
       "      <td>27</td>\n",
       "      <td>73</td>\n",
       "      <td>C2428</td>\n",
       "      <td>C1685</td>\n",
       "    </tr>\n",
       "    <tr>\n",
       "      <th>28</th>\n",
       "      <td>28</td>\n",
       "      <td>76</td>\n",
       "      <td>C18636</td>\n",
       "      <td>C1685</td>\n",
       "    </tr>\n",
       "    <tr>\n",
       "      <th>29</th>\n",
       "      <td>29</td>\n",
       "      <td>76</td>\n",
       "      <td>C18636</td>\n",
       "      <td>C1707</td>\n",
       "    </tr>\n",
       "    <tr>\n",
       "      <th>...</th>\n",
       "      <td>...</td>\n",
       "      <td>...</td>\n",
       "      <td>...</td>\n",
       "      <td>...</td>\n",
       "    </tr>\n",
       "    <tr>\n",
       "      <th>970</th>\n",
       "      <td>970</td>\n",
       "      <td>2880</td>\n",
       "      <td>C4377</td>\n",
       "      <td>C706</td>\n",
       "    </tr>\n",
       "    <tr>\n",
       "      <th>971</th>\n",
       "      <td>971</td>\n",
       "      <td>2881</td>\n",
       "      <td>C3380</td>\n",
       "      <td>C22167</td>\n",
       "    </tr>\n",
       "    <tr>\n",
       "      <th>972</th>\n",
       "      <td>972</td>\n",
       "      <td>2883</td>\n",
       "      <td>C3380</td>\n",
       "      <td>C22841</td>\n",
       "    </tr>\n",
       "    <tr>\n",
       "      <th>973</th>\n",
       "      <td>973</td>\n",
       "      <td>2888</td>\n",
       "      <td>C5778</td>\n",
       "      <td>C586</td>\n",
       "    </tr>\n",
       "    <tr>\n",
       "      <th>974</th>\n",
       "      <td>974</td>\n",
       "      <td>2888</td>\n",
       "      <td>C5778</td>\n",
       "      <td>C612</td>\n",
       "    </tr>\n",
       "    <tr>\n",
       "      <th>975</th>\n",
       "      <td>975</td>\n",
       "      <td>2889</td>\n",
       "      <td>C13023</td>\n",
       "      <td>C1685</td>\n",
       "    </tr>\n",
       "    <tr>\n",
       "      <th>976</th>\n",
       "      <td>976</td>\n",
       "      <td>2889</td>\n",
       "      <td>C13023</td>\n",
       "      <td>C1707</td>\n",
       "    </tr>\n",
       "    <tr>\n",
       "      <th>977</th>\n",
       "      <td>977</td>\n",
       "      <td>2890</td>\n",
       "      <td>C3198</td>\n",
       "      <td>C5030</td>\n",
       "    </tr>\n",
       "    <tr>\n",
       "      <th>978</th>\n",
       "      <td>978</td>\n",
       "      <td>2890</td>\n",
       "      <td>C3380</td>\n",
       "      <td>C22841</td>\n",
       "    </tr>\n",
       "    <tr>\n",
       "      <th>979</th>\n",
       "      <td>979</td>\n",
       "      <td>2890</td>\n",
       "      <td>C5778</td>\n",
       "      <td>C2109</td>\n",
       "    </tr>\n",
       "    <tr>\n",
       "      <th>980</th>\n",
       "      <td>980</td>\n",
       "      <td>2891</td>\n",
       "      <td>C5778</td>\n",
       "      <td>C612</td>\n",
       "    </tr>\n",
       "    <tr>\n",
       "      <th>981</th>\n",
       "      <td>981</td>\n",
       "      <td>2894</td>\n",
       "      <td>C4377</td>\n",
       "      <td>C5030</td>\n",
       "    </tr>\n",
       "    <tr>\n",
       "      <th>982</th>\n",
       "      <td>982</td>\n",
       "      <td>2899</td>\n",
       "      <td>C2159</td>\n",
       "      <td>C15644</td>\n",
       "    </tr>\n",
       "    <tr>\n",
       "      <th>983</th>\n",
       "      <td>983</td>\n",
       "      <td>2900</td>\n",
       "      <td>C3484</td>\n",
       "      <td>C1685</td>\n",
       "    </tr>\n",
       "    <tr>\n",
       "      <th>984</th>\n",
       "      <td>984</td>\n",
       "      <td>2909</td>\n",
       "      <td>C4914</td>\n",
       "      <td>C5030</td>\n",
       "    </tr>\n",
       "    <tr>\n",
       "      <th>985</th>\n",
       "      <td>985</td>\n",
       "      <td>2920</td>\n",
       "      <td>C2480</td>\n",
       "      <td>C5030</td>\n",
       "    </tr>\n",
       "    <tr>\n",
       "      <th>986</th>\n",
       "      <td>986</td>\n",
       "      <td>2920</td>\n",
       "      <td>C3664</td>\n",
       "      <td>C706</td>\n",
       "    </tr>\n",
       "    <tr>\n",
       "      <th>987</th>\n",
       "      <td>987</td>\n",
       "      <td>2921</td>\n",
       "      <td>C3380</td>\n",
       "      <td>C22841</td>\n",
       "    </tr>\n",
       "    <tr>\n",
       "      <th>988</th>\n",
       "      <td>988</td>\n",
       "      <td>2921</td>\n",
       "      <td>C453</td>\n",
       "      <td>C1707</td>\n",
       "    </tr>\n",
       "    <tr>\n",
       "      <th>989</th>\n",
       "      <td>989</td>\n",
       "      <td>2930</td>\n",
       "      <td>C2320</td>\n",
       "      <td>C5588</td>\n",
       "    </tr>\n",
       "    <tr>\n",
       "      <th>990</th>\n",
       "      <td>990</td>\n",
       "      <td>2932</td>\n",
       "      <td>C2492</td>\n",
       "      <td>C457</td>\n",
       "    </tr>\n",
       "    <tr>\n",
       "      <th>991</th>\n",
       "      <td>991</td>\n",
       "      <td>2939</td>\n",
       "      <td>C154</td>\n",
       "      <td>C706</td>\n",
       "    </tr>\n",
       "    <tr>\n",
       "      <th>992</th>\n",
       "      <td>992</td>\n",
       "      <td>2942</td>\n",
       "      <td>C2772</td>\n",
       "      <td>C467</td>\n",
       "    </tr>\n",
       "    <tr>\n",
       "      <th>993</th>\n",
       "      <td>993</td>\n",
       "      <td>2942</td>\n",
       "      <td>C4352</td>\n",
       "      <td>C5030</td>\n",
       "    </tr>\n",
       "    <tr>\n",
       "      <th>994</th>\n",
       "      <td>994</td>\n",
       "      <td>2952</td>\n",
       "      <td>C3380</td>\n",
       "      <td>C22841</td>\n",
       "    </tr>\n",
       "    <tr>\n",
       "      <th>995</th>\n",
       "      <td>995</td>\n",
       "      <td>2954</td>\n",
       "      <td>C159</td>\n",
       "      <td>C1707</td>\n",
       "    </tr>\n",
       "    <tr>\n",
       "      <th>996</th>\n",
       "      <td>996</td>\n",
       "      <td>2959</td>\n",
       "      <td>C3380</td>\n",
       "      <td>C5588</td>\n",
       "    </tr>\n",
       "    <tr>\n",
       "      <th>997</th>\n",
       "      <td>997</td>\n",
       "      <td>2965</td>\n",
       "      <td>C3143</td>\n",
       "      <td>C1707</td>\n",
       "    </tr>\n",
       "    <tr>\n",
       "      <th>998</th>\n",
       "      <td>998</td>\n",
       "      <td>2969</td>\n",
       "      <td>C2626</td>\n",
       "      <td>C706</td>\n",
       "    </tr>\n",
       "    <tr>\n",
       "      <th>999</th>\n",
       "      <td>999</td>\n",
       "      <td>2976</td>\n",
       "      <td>C2668</td>\n",
       "      <td>C706</td>\n",
       "    </tr>\n",
       "  </tbody>\n",
       "</table>\n",
       "<p>1000 rows × 4 columns</p>\n",
       "</div>"
      ],
      "text/plain": [
       "      id  time   shost resolvedhost\n",
       "0      0     2   C4653        C5030\n",
       "1      1     2   C5782       C16712\n",
       "2      2     6   C1191         C419\n",
       "3      3    15   C3380       C22841\n",
       "4      4    18   C2436        C5030\n",
       "5      5    31    C161        C2109\n",
       "6      6    35   C5642         C528\n",
       "7      7    38   C3380       C22841\n",
       "8      8    42   C2428        C1065\n",
       "9      9    42   C2428        C2109\n",
       "10    10    42   C2428         C586\n",
       "11    11    43   C2428         C528\n",
       "12    12    44   C2428        C2109\n",
       "13    13    49   C5778         C706\n",
       "14    14    50   C2492         C457\n",
       "15    15    51   C1299        C2109\n",
       "16    16    53    C608         C706\n",
       "17    17    59   C2517        C1707\n",
       "18    18    62  C24436       C24436\n",
       "19    19    62  C26743       C26743\n",
       "20    20    62   C5778        C1685\n",
       "21    21    63   C3198        C1707\n",
       "22    22    63   C5778        C1685\n",
       "23    23    65   C1108         C706\n",
       "24    24    65   C2428         C457\n",
       "25    25    66   C2428         C457\n",
       "26    26    71   C4651        C1707\n",
       "27    27    73   C2428        C1685\n",
       "28    28    76  C18636        C1685\n",
       "29    29    76  C18636        C1707\n",
       "..   ...   ...     ...          ...\n",
       "970  970  2880   C4377         C706\n",
       "971  971  2881   C3380       C22167\n",
       "972  972  2883   C3380       C22841\n",
       "973  973  2888   C5778         C586\n",
       "974  974  2888   C5778         C612\n",
       "975  975  2889  C13023        C1685\n",
       "976  976  2889  C13023        C1707\n",
       "977  977  2890   C3198        C5030\n",
       "978  978  2890   C3380       C22841\n",
       "979  979  2890   C5778        C2109\n",
       "980  980  2891   C5778         C612\n",
       "981  981  2894   C4377        C5030\n",
       "982  982  2899   C2159       C15644\n",
       "983  983  2900   C3484        C1685\n",
       "984  984  2909   C4914        C5030\n",
       "985  985  2920   C2480        C5030\n",
       "986  986  2920   C3664         C706\n",
       "987  987  2921   C3380       C22841\n",
       "988  988  2921    C453        C1707\n",
       "989  989  2930   C2320        C5588\n",
       "990  990  2932   C2492         C457\n",
       "991  991  2939    C154         C706\n",
       "992  992  2942   C2772         C467\n",
       "993  993  2942   C4352        C5030\n",
       "994  994  2952   C3380       C22841\n",
       "995  995  2954    C159        C1707\n",
       "996  996  2959   C3380        C5588\n",
       "997  997  2965   C3143        C1707\n",
       "998  998  2969   C2626         C706\n",
       "999  999  2976   C2668         C706\n",
       "\n",
       "[1000 rows x 4 columns]"
      ]
     },
     "execution_count": 15,
     "metadata": {},
     "output_type": "execute_result"
    }
   ],
   "source": [
    "#get all data from this data stream, and return a pandas dataframe\n",
    "alldnsdf=dns.select().pandas()\n",
    "alldnsdf"
   ]
  },
  {
   "cell_type": "code",
   "execution_count": 16,
   "metadata": {
    "collapsed": false
   },
   "outputs": [
    {
     "data": {
      "text/plain": [
       "[{'id': 0, 'resolvedhost': 'C5030', 'shost': 'C4653', 'time': 2},\n",
       " {'id': 1, 'resolvedhost': 'C16712', 'shost': 'C5782', 'time': 2},\n",
       " {'id': 2, 'resolvedhost': 'C419', 'shost': 'C1191', 'time': 6},\n",
       " {'id': 3, 'resolvedhost': 'C22841', 'shost': 'C3380', 'time': 15},\n",
       " {'id': 4, 'resolvedhost': 'C5030', 'shost': 'C2436', 'time': 18},\n",
       " {'id': 5, 'resolvedhost': 'C2109', 'shost': 'C161', 'time': 31}]"
      ]
     },
     "execution_count": 16,
     "metadata": {},
     "output_type": "execute_result"
    }
   ],
   "source": [
    "# Limit result set to a smaller numbern (Currently buggy)\n",
    "tendns=dns.select(limit=6).list()\n",
    "tendns"
   ]
  },
  {
   "cell_type": "code",
   "execution_count": 17,
   "metadata": {
    "collapsed": false
   },
   "outputs": [
    {
     "data": {
      "text/plain": [
       "[{'resolvedhost': 'C5030', 'shost': 'C4653'},\n",
       " {'resolvedhost': 'C16712', 'shost': 'C5782'},\n",
       " {'resolvedhost': 'C419', 'shost': 'C1191'},\n",
       " {'resolvedhost': 'C22841', 'shost': 'C3380'},\n",
       " {'resolvedhost': 'C5030', 'shost': 'C2436'},\n",
       " {'resolvedhost': 'C2109', 'shost': 'C161'}]"
      ]
     },
     "execution_count": 17,
     "metadata": {},
     "output_type": "execute_result"
    }
   ],
   "source": [
    "# Ask for a few of the columns by column name\n",
    "dns.select('@resolvedhost,@shost',limit=6).list()"
   ]
  },
  {
   "cell_type": "code",
   "execution_count": 18,
   "metadata": {
    "collapsed": false
   },
   "outputs": [
    {
     "data": {
      "text/plain": [
       "[{'resolvedhost': 'C5030', 'shost': 'C4653', 'time': 2},\n",
       " {'resolvedhost': 'C16712', 'shost': 'C5782', 'time': 2},\n",
       " {'resolvedhost': 'C419', 'shost': 'C1191', 'time': 6},\n",
       " {'resolvedhost': 'C22841', 'shost': 'C3380', 'time': 15},\n",
       " {'resolvedhost': 'C5030', 'shost': 'C2436', 'time': 18},\n",
       " {'resolvedhost': 'C2109', 'shost': 'C161', 'time': 31}]"
      ]
     },
     "execution_count": 18,
     "metadata": {},
     "output_type": "execute_result"
    }
   ],
   "source": [
    "#Ask for columns by dimension\n",
    "dns.select('hostname,time',limit=6).list()"
   ]
  },
  {
   "cell_type": "code",
   "execution_count": 19,
   "metadata": {
    "collapsed": false
   },
   "outputs": [
    {
     "data": {
      "text/plain": [
       "[{'resolvedhost': 'C5030', 'shost': 'C4653'},\n",
       " {'resolvedhost': 'C16712', 'shost': 'C5782'},\n",
       " {'resolvedhost': 'C419', 'shost': 'C1191'},\n",
       " {'resolvedhost': 'C22841', 'shost': 'C3380'},\n",
       " {'resolvedhost': 'C5030', 'shost': 'C2436'},\n",
       " {'resolvedhost': 'C2109', 'shost': 'C161'}]"
      ]
     },
     "execution_count": 19,
     "metadata": {},
     "output_type": "execute_result"
    }
   ],
   "source": [
    "#Ask for columns by tag\n",
    "dns.select('src:,dst:',limit=6).list()"
   ]
  },
  {
   "cell_type": "code",
   "execution_count": 20,
   "metadata": {
    "collapsed": false
   },
   "outputs": [
    {
     "data": {
      "text/plain": [
       "[{'shost': 'C4653'},\n",
       " {'shost': 'C5782'},\n",
       " {'shost': 'C1191'},\n",
       " {'shost': 'C3380'},\n",
       " {'shost': 'C2436'},\n",
       " {'shost': 'C161'}]"
      ]
     },
     "execution_count": 20,
     "metadata": {},
     "output_type": "execute_result"
    }
   ],
   "source": [
    "#Ask for columns by tagged dimension\n",
    "dns.select('src:hostname',limit=6).list()"
   ]
  },
  {
   "cell_type": "markdown",
   "metadata": {},
   "source": [
    "## Filter the datastream to return subsets"
   ]
  },
  {
   "cell_type": "code",
   "execution_count": 21,
   "metadata": {
    "collapsed": false
   },
   "outputs": [
    {
     "data": {
      "text/plain": [
       "[{'id': 3, 'resolvedhost': 'C22841', 'shost': 'C3380', 'time': 15},\n",
       " {'id': 7, 'resolvedhost': 'C22841', 'shost': 'C3380', 'time': 38},\n",
       " {'id': 30, 'resolvedhost': 'C22841', 'shost': 'C3380', 'time': 76},\n",
       " {'id': 38, 'resolvedhost': 'C22841', 'shost': 'C3380', 'time': 100},\n",
       " {'id': 47, 'resolvedhost': 'C22841', 'shost': 'C3380', 'time': 137},\n",
       " {'id': 60, 'resolvedhost': 'C22841', 'shost': 'C3380', 'time': 162}]"
      ]
     },
     "execution_count": 21,
     "metadata": {},
     "output_type": "execute_result"
    }
   ],
   "source": [
    "# Ask when a dimension has a particular value\n",
    "dns.select(limit=6).where('hostname==\"C3380\"').list()"
   ]
  },
  {
   "cell_type": "code",
   "execution_count": 22,
   "metadata": {
    "collapsed": false
   },
   "outputs": [
    {
     "data": {
      "text/plain": [
       "[{'id': 3, 'resolvedhost': 'C22841', 'shost': 'C3380', 'time': 15},\n",
       " {'id': 7, 'resolvedhost': 'C22841', 'shost': 'C3380', 'time': 38},\n",
       " {'id': 30, 'resolvedhost': 'C22841', 'shost': 'C3380', 'time': 76},\n",
       " {'id': 38, 'resolvedhost': 'C22841', 'shost': 'C3380', 'time': 100},\n",
       " {'id': 47, 'resolvedhost': 'C22841', 'shost': 'C3380', 'time': 137},\n",
       " {'id': 60, 'resolvedhost': 'C22841', 'shost': 'C3380', 'time': 162}]"
      ]
     },
     "execution_count": 22,
     "metadata": {},
     "output_type": "execute_result"
    }
   ],
   "source": [
    "# Ask when a tagged data item has a particular value\n",
    "dns.select(limit=6).where('src:==\"C3380\"').list()"
   ]
  },
  {
   "cell_type": "code",
   "execution_count": 23,
   "metadata": {
    "collapsed": false
   },
   "outputs": [
    {
     "data": {
      "text/plain": [
       "[{'id': 3, 'resolvedhost': 'C22841', 'shost': 'C3380', 'time': 15},\n",
       " {'id': 7, 'resolvedhost': 'C22841', 'shost': 'C3380', 'time': 38},\n",
       " {'id': 30, 'resolvedhost': 'C22841', 'shost': 'C3380', 'time': 76},\n",
       " {'id': 38, 'resolvedhost': 'C22841', 'shost': 'C3380', 'time': 100},\n",
       " {'id': 47, 'resolvedhost': 'C22841', 'shost': 'C3380', 'time': 137},\n",
       " {'id': 60, 'resolvedhost': 'C22841', 'shost': 'C3380', 'time': 162}]"
      ]
     },
     "execution_count": 23,
     "metadata": {},
     "output_type": "execute_result"
    }
   ],
   "source": [
    "# Ask when a data item with particular tagged dimension has a particular value\n",
    "dns.select(limit=6).where('src:hostname==\"C3380\"').list()"
   ]
  },
  {
   "cell_type": "code",
   "execution_count": 24,
   "metadata": {
    "collapsed": false
   },
   "outputs": [],
   "source": [
    "# Ask for a match to any of a list of systems of interest -- Does Not Work Yet\n",
    "#list(dns.select(limit=6).where('src:hostname==[\"C3380\",\"C161\"]').run())"
   ]
  },
  {
   "cell_type": "code",
   "execution_count": null,
   "metadata": {
    "collapsed": false
   },
   "outputs": [],
   "source": []
  }
 ],
 "metadata": {
  "kernelspec": {
   "display_name": "Python 3",
   "language": "python",
   "name": "python3"
  },
  "language_info": {
   "codemirror_mode": {
    "name": "ipython",
    "version": 3
   },
   "file_extension": ".py",
   "mimetype": "text/x-python",
   "name": "python",
   "nbconvert_exporter": "python",
   "pygments_lexer": "ipython3",
   "version": "3.5.2"
  }
 },
 "nbformat": 4,
 "nbformat_minor": 0
}
